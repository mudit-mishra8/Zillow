{
 "cells": [
  {
   "cell_type": "markdown",
   "metadata": {},
   "source": [
    "# Packages Used\n",
    "* Import Statements and Capcha Avoiding Code"
   ]
  },
  {
   "cell_type": "code",
   "execution_count": 2,
   "metadata": {},
   "outputs": [],
   "source": [
    "import os\n",
    "import requests\n",
    "from bs4 import BeautifulSoup as BS\n",
    "from urllib.request import urlopen\n",
    "import urllib.parse\n",
    "import urllib.error\n",
    "import ssl\n",
    "import sys\n",
    "from urllib.request import Request, urlopen\n",
    "import pandas as pd\n",
    "import numpy as np\n",
    "import re\n",
    "import json\n",
    "from pandas.io.json._normalize import nested_to_record\n",
    "ctx = ssl.create_default_context()\n",
    "ctx.check_hostname=False\n",
    "ctx.verify_mode=ssl.CERT_NONE\n",
    "import warnings\n",
    "warnings.filterwarnings(\"ignore\")"
   ]
  },
  {
   "cell_type": "markdown",
   "metadata": {},
   "source": [
    "# Add City wide pages available in  BayArea\n",
    "* Each City define a variable with properties to collect from  each cities pages from zillow"
   ]
  },
  {
   "cell_type": "code",
   "execution_count": 4,
   "metadata": {},
   "outputs": [],
   "source": [
    "fremont_sigle_family_1=\"https://www.zillow.com/fremont-ca/houses/1_p/\"\n",
    "fremont_sigle_family_2=\"https://www.zillow.com/fremont-ca/houses/2_p/\"\n",
    "santaclara_single_family=\"https://www.zillow.com/homes/Santa-Clara,-CA_rb/\"\n",
    "sj1=\"https://www.zillow.com/homes/sanjose-ca_rb/1_p\"\n",
    "sj2=\"https://www.zillow.com/homes/sanjose-ca_rb/2_p\"\n",
    "sj3=\"https://www.zillow.com/homes/sanjose-ca_rb/3_p\"\n",
    "sj4=\"https://www.zillow.com/homes/sanjose-ca_rb/4_p\"\n",
    "sj5=\"https://www.zillow.com/homes/sanjose-ca_rb/5_p\"\n",
    "sj6=\"https://www.zillow.com/homes/sanjose-ca_rb/6_p\"\n",
    "sj7=\"https://www.zillow.com/homes/sanjose-ca_rb/7_p\"\n",
    "sj8=\"https://www.zillow.com/homes/sanjose-ca_rb/8_p\"\n",
    "sfo_1=\"https://www.zillow.com/homes/San-Francisco,-CA_rb/1_p\"\n",
    "sfo_2=\"https://www.zillow.com/homes/San-Francisco,-CA_rb/2_p\"\n",
    "sfo_3=\"https://www.zillow.com/homes/San-Francisco,-CA_rb/3_p\"\n",
    "sfo_4=\"https://www.zillow.com/homes/San-Francisco,-CA_rb/4_p\"\n",
    "sfo_5=\"https://www.zillow.com/homes/San-Francisco,-CA_rb/5_p\"\n",
    "sfo_6=\"https://www.zillow.com/homes/San-Francisco,-CA_rb/6_p\"\n",
    "sfo_7=\"https://www.zillow.com/homes/San-Francisco,-CA_rb/7_p\"\n",
    "sfo_8=\"https://www.zillow.com/homes/San-Francisco,-CA_rb/8_p\"\n",
    "sfo_9=\"https://www.zillow.com/homes/San-Francisco,-CA_rb/9_p\"\n",
    "dublin=\"https://www.zillow.com/homes/Dublin,-CA_rb/\"\n",
    "pleaston=\"https://www.zillow.com/homes/Pleasanton,-CA_rb/\"\n",
    "livermore_1=\"https://www.zillow.com/livermore-ca/houses/1_p/\"\n",
    "livermore_2=\"https://www.zillow.com/livermore-ca/houses/2_p/\"\n",
    "sunnyvale_1=\"https://www.zillow.com/homes/Sunnyvale,-CA_rb/1_p/\"\n",
    "sunnyvale_2=\"https://www.zillow.com/homes/Sunnyvale,-CA_rb/2_p/\"\n",
    "mountainview=\"https://www.zillow.com/mountain-view-ca/houses/1_p\"\n",
    "sanroman=\"https://www.zillow.com/homes/San-Ramon,-CA_rb/1_p\"\n",
    "oakland_1=\"https://www.zillow.com/homes/Oakland,-CA_rb/1_p/\"\n",
    "oakland_2=\"https://www.zillow.com/homes/Oakland,-CA_rb/2_p/\"\n",
    "oakland_3=\"https://www.zillow.com/homes/Oakland,-CA_rb/3_p/\"\n",
    "oakland_4=\"https://www.zillow.com/homes/Oakland,-CA_rb/4_p/\"\n",
    "oakland_5=\"https://www.zillow.com/homes/Oakland,-CA_rb/5_p/\"\n",
    "oakland_6=\"https://www.zillow.com/homes/Oakland,-CA_rb/6_p/\"\n",
    "oakland_7=\"https://www.zillow.com/homes/Oakland,-CA_rb/7_p/\"\n",
    "hayward_1=\"https://www.zillow.com/homes/Hayward,-CA_rb/\"\n",
    "hayward_2=\"https://www.zillow.com/hayward-ca/2_p\"\n",
    "hayward_3=\"https://www.zillow.com/hayward-ca/3_p\"\n",
    "\n",
    "\n",
    "\n",
    "urls = [fremont_sigle_family_1,fremont_sigle_family_2, santaclara_single_family,\n",
    "sfo_1,sfo_2,sfo_3,sfo_4,sfo_5,sfo_6,sfo_7,sfo_8,sfo_9, sj1,sj2,sj3,sj4,sj5,sj6,sj7,sj8,dublin,pleaston,livermore_1,livermore_2,sunnyvale_1,sunnyvale_2,mountainview,\n",
    "oakland_1,oakland_2,oakland_3,oakland_4,oakland_5,oakland_6,oakland_7,hayward_1,hayward_2,hayward_3]\n",
    "\n",
    "properties = []"
   ]
  },
  {
   "cell_type": "markdown",
   "metadata": {},
   "source": [
    "# Collect all property links\n",
    "* For each city page scrape the list of properties available and add the unique link per property into a list"
   ]
  },
  {
   "cell_type": "code",
   "execution_count": 5,
   "metadata": {},
   "outputs": [],
   "source": [
    "#Gather Property Links\n",
    "for url in urls:\n",
    "    links = []\n",
    "    req = Request(url, headers={'User-Agent': 'Mozilla/5.0 (Macintosh; Intel Mac OS X 10_11_2) AppleWebKit/601.3.9 (KHTML, like Gecko) Version/9.0.2 Safari/601.3.9 '})\n",
    "    webpage = urlopen(req).read()\n",
    "    soup = BS(webpage, features=\"html.parser\")\n",
    "    pages = re.findall(r\"https:\\/\\/www\\.zillow\\.com\\/homedetails\\/\\S+\\/\\d+_zpid\\/\",str(soup))\n",
    "    #print(pages)\n",
    "    links = np.unique([link for link in pages if (link.startswith('https://www.zillow.com/homedetails/') & ('image' not in link))])\n",
    "    # print(links)\n",
    "    for lk in links:\n",
    "        properties.append(lk)"
   ]
  },
  {
   "cell_type": "markdown",
   "metadata": {},
   "source": [
    "## Dumping Property List\n",
    "+ Used Unique function to remove any duplicate properties\n",
    "+ Push the data to a data frame\n",
    "+ Dump the data into Excel for future Reference"
   ]
  },
  {
   "cell_type": "code",
   "execution_count": 10,
   "metadata": {},
   "outputs": [
    {
     "name": "stdout",
     "output_type": "stream",
     "text": [
      "1326\n"
     ]
    }
   ],
   "source": [
    "properties = np.unique(properties)\n",
    "print(len(properties))"
   ]
  },
  {
   "cell_type": "code",
   "execution_count": 14,
   "metadata": {},
   "outputs": [],
   "source": [
    "listProperties = pd.DataFrame(properties)\n",
    "listProperties.to_excel(\"zillow_properties_dump.xlsx\")"
   ]
  },
  {
   "cell_type": "markdown",
   "metadata": {},
   "source": [
    "# Scrapping Data\n",
    "* Take each property in the list\n",
    "* Make a request using request object\n",
    "* Using Beautiful Soup Package capture the JSON present in hdpApolloPreloadedData element\n",
    "* Parse the Json using json package and extract what is exactly required\n",
    "* Since the Json is nested used a nested_to_record library to denormalize the chaining in the JSON (Flatten it)\n",
    "* Add it to the Dataframe"
   ]
  },
  {
   "cell_type": "code",
   "execution_count": null,
   "metadata": {},
   "outputs": [],
   "source": [
    "data_dump = pd.DataFrame()\n",
    "for prop in properties:\n",
    "    req = Request(url, headers={'User-Agent': 'Mozilla/5.0 (Macintosh; Intel Mac OS X 10_11_2) AppleWebKit/601.3.9 (KHTML, like Gecko) Version/9.0.2 Safari/601.3.9 '})\n",
    "    webpage = urlopen(req).read()\n",
    "    soup = BS(webpage, features=\"html.parser\")\n",
    "    s = soup.find('script', id='hdpApolloPreloadedData', type='application/json').string\n",
    "    full_json = json.loads(s)\n",
    "    apiCache = full_json['apiCache']\n",
    "    VariantQuery = json.loads(apiCache)\n",
    "    varient_list = list(VariantQuery.values())[1]\n",
    "    pds = varient_list['property']\n",
    "    flat = nested_to_record(pds, sep='_')\n",
    "    data_dump = data_dump.append(flat, ignore_index=True)\n"
   ]
  },
  {
   "cell_type": "markdown",
   "metadata": {},
   "source": [
    "# Dump the data to Excel \n",
    "* Print the length of dataframe to check if all properties where scrapped\n",
    "* Dump the the data to excel\n",
    "* we will see a error saying characters since it exceeds Excel's limit for URLS. This is not a problem, data is written to excel"
   ]
  },
  {
   "cell_type": "code",
   "execution_count": null,
   "metadata": {},
   "outputs": [],
   "source": [
    "print(len(data_dump))\n",
    "data_dump.head(100)\n",
    "data_dump[['price','zestimate','zpid','mlsid','rentZestimate']]\n",
    "data_dump.to_excel(\"zillow_dump_full_data.xlsx\")"
   ]
  },
  {
   "cell_type": "markdown",
   "metadata": {},
   "source": [
    "# Data Minification\n",
    "* Since the data collected is huge, the no of columns is around 750\n",
    "* We short listed around 200 Columns with cleaner data into a different Dataframe data_minfied\n",
    "* Dump the data into a excel for all the analysis and regression"
   ]
  },
  {
   "cell_type": "code",
   "execution_count": 37,
   "metadata": {},
   "outputs": [],
   "source": [
    "pd.set_option('display.max_columns', None)\n",
    "data_minfied = data_dump[[ 'stateId', 'countyId', 'cityId', 'zpid', 'mlsid', 'streetAddress', 'city', 'county', 'state', 'zipcode', 'price', 'zestimate', 'rentZestimate', 'yearBuilt', 'homeType', 'homeStatus', 'bedrooms', 'bathrooms', 'longitude', 'latitude', 'hasBadGeocode', 'description', 'livingAreaValue', 'livingAreaUnits', 'lotAreaValue', 'lotAreaUnits', 'priceHistory', 'lastSoldPrice', 'zestimateLowPercent', 'zestimateHighPercent', 'restimateLowPercent', 'restimateHighPercent', 'hideZMA',\n",
    " 'dateSoldString', 'livingAreaUnitsShort', 'taxAssessedValue', 'taxAssessedYear', 'isPreforeclosureAuction', 'monthlyHoaFee', 'propertyTaxRate', 'timeZone', 'whatILove', 'isFeatured', 'isListedByOwner', 'isCommunityPillar', 'taxHistory', 'isIncomeRestricted', 'homeValues', 'buildingId', 'daysOnZillow', 'schools', 'zillowOfferMarket_code', 'address_streetAddress', 'address_city', 'address_state', 'address_zipcode', 'address_neighborhood', 'address_community', 'address_subdivision', 'zestimateDeepDiveData_zmaModel_approveDate', 'resoFacts_atAGlanceFacts', 'resoFacts_bedrooms', 'resoFacts_bathrooms', 'resoFacts_bathroomsFull', 'resoFacts_bathroomsThreeQuarter', 'resoFacts_bathroomsHalf', 'resoFacts_bathroomsOneQuarter', 'resoFacts_bathroomsPartial', 'resoFacts_mainLevelBathrooms', 'resoFacts_rooms', 'resoFacts_basement', 'resoFacts_flooring', 'resoFacts_heating', 'resoFacts_hasHeating', 'resoFacts_cooling', 'resoFacts_hasCooling', 'resoFacts_appliances', 'resoFacts_laundryFeatures', 'resoFacts_fireplaces', 'resoFacts_fireplaceFeatures', 'resoFacts_hasFireplace', 'resoFacts_furnished', 'resoFacts_commonWalls', 'resoFacts_buildingArea', 'resoFacts_livingArea', 'resoFacts_aboveGradeFinishedArea', 'resoFacts_belowGradeFinishedArea', 'resoFacts_virtualTour', 'resoFacts_parking', 'resoFacts_parkingFeatures', 'resoFacts_garageSpaces', 'resoFacts_coveredSpaces', 'resoFacts_hasAttachedGarage', 'resoFacts_hasGarage', 'resoFacts_openParkingSpaces', 'resoFacts_hasOpenParking', 'resoFacts_carportSpaces', 'resoFacts_hasCarport', 'resoFacts_otherParking', 'resoFacts_accessibilityFeatures', 'resoFacts_levels', 'resoFacts_stories', 'resoFacts_entryLevel', 'resoFacts_entryLocation', 'resoFacts_hasPrivatePool', 'resoFacts_hasSpa', 'resoFacts_spaFeatures', 'resoFacts_exteriorFeatures', 'resoFacts_patioAndPorchFeatures', 'resoFacts_fencing', 'resoFacts_view', 'resoFacts_hasView', 'resoFacts_hasWaterfrontView', 'resoFacts_waterfrontFeatures', 'resoFacts_waterBodyName', 'resoFacts_frontageType', 'resoFacts_frontageLength', 'resoFacts_topography', 'resoFacts_woodedArea', 'resoFacts_vegetation', 'resoFacts_canRaiseHorses', 'resoFacts_lotSize', 'resoFacts_lotSizeDimensions', 'resoFacts_otherStructures', 'resoFacts_additionalParcelsDescription', 'resoFacts_hasAdditionalParcels', 'resoFacts_parcelNumber', 'resoFacts_hasAttachedProperty', 'resoFacts_hasLandLease', 'resoFacts_landLeaseAmount', 'resoFacts_zoning', 'resoFacts_zoningDescription', 'resoFacts_homeType', 'resoFacts_architecturalStyle', 'resoFacts_constructionMaterials', 'resoFacts_foundationDetails', 'resoFacts_roofType', 'resoFacts_windowFeatures', 'resoFacts_propertyCondition', 'resoFacts_isNewConstruction', 'resoFacts_yearBuilt', 'resoFacts_developmentStatus', 'resoFacts_yearBuiltEffective', 'resoFacts_onMarketDate', 'resoFacts_builderModel', 'resoFacts_builderName', 'resoFacts_hasHomeWarranty', 'resoFacts_electric', 'resoFacts_hasElectricOnProperty', 'resoFacts_gas', 'resoFacts_sewer', 'resoFacts_waterSources', 'resoFacts_utilities', 'resoFacts_greenBuildingVerificationType', 'resoFacts_greenEnergyEfficient', 'resoFacts_greenIndoorAirQuality', 'resoFacts_greenSustainability', 'resoFacts_greenWaterConservation', 'resoFacts_numberOfUnitsInCommunity', 'resoFacts_numberOfUnitsVacant', 'resoFacts_storiesTotal', 'resoFacts_allowedPets', 'resoFacts_hasPetsAllowed', 'resoFacts_hasRentControl', 'resoFacts_buildingFeatures', 'resoFacts_structureType', 'resoFacts_buildingName', 'resoFacts_elementarySchool', 'resoFacts_elementarySchoolDistrict', 'resoFacts_middleOrJuniorSchool', 'resoFacts_middleOrJuniorSchoolDistrict', 'resoFacts_highSchool', 'resoFacts_highSchoolDistrict', 'resoFacts_securityFeatures', 'resoFacts_communityFeatures', 'resoFacts_isSeniorCommunity', 'resoFacts_cityRegion', 'resoFacts_associationFee', 'resoFacts_hasAssociation', 'resoFacts_associationAmenities', 'resoFacts_associationFeeIncludes', 'resoFacts_associationName', 'resoFacts_associationPhone', 'resoFacts_associationFee2', 'resoFacts_associationName2', 'resoFacts_associationPhone2', 'resoFacts_taxAnnualAmount', 'resoFacts_listingId', 'resoFacts_buildingAreaSource', 'resoFacts_specialListingConditions', 'resoFacts_availabilityDate', 'resoFacts_basementYN', 'resoFacts_buyerAgencyCompensation', 'resoFacts_buyerAgencyCompensationType', 'resoFacts_doorFeatures', 'resoFacts_interiorFeatures', 'resoFacts_leaseTerm', 'resoFacts_lotFeatures', 'resoFacts_mainLevelBedrooms', 'resoFacts_otherEquipment', 'resoFacts_poolFeatures', 'resoFacts_propertySubType', 'resoFacts_virtualTourURLUnbranded', 'resoFacts_waterViewYN', 'resoFacts_waterView', 'resoFacts_livingAreaRange', 'resoFacts_livingAreaRangeUnits', 'resoFacts_exclusions', 'resoFacts_landLeaseExpirationDate', 'resoFacts_subdivisionName', 'resoFacts_attic', 'resoFacts_bodyType', 'resoFacts_cropsIncludedYN', 'resoFacts_elevation', 'resoFacts_elevationUnits', 'resoFacts_foundationArea', 'resoFacts_horseAmenities', 'resoFacts_horseYN', 'resoFacts_inclusions', 'resoFacts_incomeIncludes', 'resoFacts_irrigationWaterRightsAcres', 'resoFacts_irrigationWaterRightsYN', 'resoFacts_listingTerms', 'resoFacts_ownership', 'resoFacts_ownershipType', 'resoFacts_roadSurfaceType', 'resoFacts_tenantPays', 'resoFacts_totalActualRent', 'resoFacts_waterSource', 'resoFacts_petsMaxWeight', 'resoFacts_municipality', 'resoFacts_pricePerSquareFoot', 'resoFacts_marketingType', 'resoFacts_depositsAndFees', 'resoFacts_daysOnZillow', 'resoFacts_hoaFee', 'resoFacts_offerReviewDate', 'resoFacts_otherFacts', 'resoFacts_listAOR', 'solarPotential_sunScore', 'solarPotential_buildFactor', 'solarPotential_climateFactor', 'solarPotential_electricityFactor', 'solarPotential_solarFactor', 'mortgageRates_thirtyYearFixedRate', 'mortgageRates_fifteenYearFixedRate', 'mortgageRates_arm5Rate', 'parentRegion_name']]"
   ]
  },
  {
   "cell_type": "code",
   "execution_count": 38,
   "metadata": {},
   "outputs": [
    {
     "data": {
      "text/plain": [
       "1325"
      ]
     },
     "execution_count": 38,
     "metadata": {},
     "output_type": "execute_result"
    }
   ],
   "source": [
    "len(data_minfied)"
   ]
  },
  {
   "cell_type": "code",
   "execution_count": 39,
   "metadata": {},
   "outputs": [],
   "source": [
    "data_minfied.to_excel(\"zillow_dump_data_minfied.xlsx\")"
   ]
  }
 ],
 "metadata": {
  "kernelspec": {
   "display_name": "Python 3",
   "language": "python",
   "name": "python3"
  },
  "language_info": {
   "codemirror_mode": {
    "name": "ipython",
    "version": 3
   },
   "file_extension": ".py",
   "mimetype": "text/x-python",
   "name": "python",
   "nbconvert_exporter": "python",
   "pygments_lexer": "ipython3",
   "version": "3.8.5"
  }
 },
 "nbformat": 4,
 "nbformat_minor": 2
}
